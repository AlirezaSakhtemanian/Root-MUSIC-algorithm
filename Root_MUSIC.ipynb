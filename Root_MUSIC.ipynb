{
 "cells": [
  {
   "cell_type": "code",
   "execution_count": null,
   "id": "5591a6a2-5dab-4de9-8705-1cdae21ce4b4",
   "metadata": {},
   "outputs": [],
   "source": [
    "import numpy as np\n",
    "from numpy.linalg import eig\n",
    "import matplotlib.pyplot as plt"
   ]
  },
  {
   "cell_type": "code",
   "execution_count": null,
   "id": "109dd639-14eb-4da4-be4b-ca3a0ba7a79c",
   "metadata": {},
   "outputs": [],
   "source": [
    "def steering_vector(angle, nAntenna, error=False):\n",
    "    d = np.arange(nAntenna)\n",
    "    if error:\n",
    "        return np.exp(-1j * np.pi * (d + np.random.randn()) * np.sin(angle))\n",
    "    return np.exp(-1j * np.pi * d * np.sin(angle))"
   ]
  },
  {
   "cell_type": "code",
   "execution_count": null,
   "id": "63e436f3-191d-4e87-b0ca-0d0e6de9c454",
   "metadata": {},
   "outputs": [],
   "source": [
    "def collect_planewave(angels, *args):\n",
    "    steering_vec = np.empty((nAntenna, len(args)), dtype=np.complex64)\n",
    "    amplitude_vec = np.empty((len(args), nSample), dtype=np.complex64)\n",
    "    for i, signal in enumerate(args):\n",
    "        steering_vec[:, i] = steering_vector(angels[i], nAntenna)\n",
    "        signalPower = np.mean(np.abs(signal) ** 2)\n",
    "        signal = signal * np.sqrt(10 ** (SNR * 0.1)) / np.sqrt(signalPower)\n",
    "        amplitude_vec[i, :] = signal[0:nSample]\n",
    "\n",
    "    planeWave = steering_vec @ amplitude_vec\n",
    "\n",
    "    noise = np.random.randn(nAntenna, nSample) + 1j * np.random.randn(nAntenna, nSample)\n",
    "    noise /= np.sqrt(np.var(noise))\n",
    "    return planeWave + noise"
   ]
  },
  {
   "cell_type": "code",
   "execution_count": null,
   "id": "ee933ab2-ec0a-4157-9052-f68a8dcdb2a6",
   "metadata": {},
   "outputs": [],
   "source": [
    "def root_music(input_signal, angle):\n",
    "    #covariance matrix\n",
    "    R = np.zeros((nAntenna, nAntenna), dtype=np.complex64)\n",
    "    for i in range(nSample):\n",
    "        R += np.outer(sig[:, i], np.conj(sig[:, i]).T)\n",
    "    R /= nSample\n",
    "\n",
    "    # calculate eigenvalues and eigenvectors of the correlate matrix\n",
    "    eigenvalues, eigenvectors = eig(R)\n",
    "    sorted_index = np.argsort(eigenvalues)[::-1]\n",
    "    sorted_eigenvalue = eigenvalues[sorted_index]\n",
    "    sorted_eigenvectors = eigenvectors[:, sorted_index]\n",
    "\n",
    "    # noise subspace\n",
    "    Qn = sorted_eigenvectors[:, nSource:]\n",
    "\n",
    "    v = steering_vector(angle, nAntenna)\n",
    "    v_trans = np.conjugate(v).T\n",
    "\n",
    "    J_z = v_trans.T @ Qn @ np.conjugate(Qn).T @ v.T\n",
    "    return np.real(J_z)"
   ]
  },
  {
   "cell_type": "code",
   "execution_count": null,
   "id": "3b30801b-fb0b-4e86-9dde-74278b57e5dc",
   "metadata": {},
   "outputs": [],
   "source": [
    "fcAntenna = 10e6\n",
    "fs = 5000\n",
    "t = np.arange(0, 1, 1/fs)\n",
    "Lambda = 3e8 / fcAntenna\n",
    "nAntenna = 16\n",
    "nSample = 200\n",
    "nSource = 1\n",
    "SNR = 10\n",
    "\n",
    "np.random.seed(42)"
   ]
  },
  {
   "cell_type": "code",
   "execution_count": null,
   "id": "24190b19-dd29-4c0f-9020-e7dafc780374",
   "metadata": {},
   "outputs": [],
   "source": [
    "angles = [np.pi/4, -np.pi/6]\n",
    "smple_data1 = np.sin(2*np.pi*1000*t)\n",
    "smple_data2 = np.sin(2*np.pi*1500*t)\n",
    "sig = collect_planewave(angles, smple_data1, smple_data2)"
   ]
  },
  {
   "cell_type": "code",
   "execution_count": null,
   "id": "6b092f61-7d83-451f-91d6-cb015ef8479e",
   "metadata": {},
   "outputs": [],
   "source": [
    "all_angles = np.arange(-np.pi/2, np.pi/2, 0.01)\n",
    "result = np.zeros(len(all_angles))\n",
    "for i, angle in enumerate(all_angles):\n",
    "    result[i] = root_music(sig, angle)\n",
    "plt.plot(all_angles, result)\n",
    "plt.xlabel('degree')\n",
    "plt.ylabel('DB')\n",
    "plt.show()"
   ]
  },
  {
   "cell_type": "code",
   "execution_count": null,
   "id": "6ce604fc-09b1-4fc5-94f3-183fc9bad6e3",
   "metadata": {},
   "outputs": [],
   "source": []
  }
 ],
 "metadata": {
  "kernelspec": {
   "display_name": "Python 3 (ipykernel)",
   "language": "python",
   "name": "python3"
  },
  "language_info": {
   "codemirror_mode": {
    "name": "ipython",
    "version": 3
   },
   "file_extension": ".py",
   "mimetype": "text/x-python",
   "name": "python",
   "nbconvert_exporter": "python",
   "pygments_lexer": "ipython3",
   "version": "3.10.12"
  }
 },
 "nbformat": 4,
 "nbformat_minor": 5
}
